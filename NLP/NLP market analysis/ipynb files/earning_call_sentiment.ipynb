{
 "cells": [
  {
   "cell_type": "markdown",
   "id": "b5250d15-7c26-4201-8e93-8839b5fac29c",
   "metadata": {},
   "source": [
    "# Earning call NLP sentiment analysis\n",
    "\n",
    "### Transcribe video to gain sentiment on earning call"
   ]
  },
  {
   "cell_type": "code",
   "execution_count": null,
   "id": "2ac34c15-f8d8-45b0-8d22-45c810eeff8b",
   "metadata": {},
   "outputs": [],
   "source": []
  }
 ],
 "metadata": {
  "kernelspec": {
   "display_name": "Python 3 (ipykernel)",
   "language": "python",
   "name": "python3"
  },
  "language_info": {
   "codemirror_mode": {
    "name": "ipython",
    "version": 3
   },
   "file_extension": ".py",
   "mimetype": "text/x-python",
   "name": "python",
   "nbconvert_exporter": "python",
   "pygments_lexer": "ipython3",
   "version": "3.9.7"
  }
 },
 "nbformat": 4,
 "nbformat_minor": 5
}
